{
 "cells": [
  {
   "cell_type": "markdown",
   "id": "09505f8f",
   "metadata": {},
   "source": [
    "## Movies dataset"
   ]
  },
  {
   "cell_type": "code",
   "execution_count": 38,
   "id": "12e9fa2a",
   "metadata": {},
   "outputs": [],
   "source": [
    "import pandas as pd\n",
    "\n",
    "movies = pd.read_csv(\"Files/Top_10000_Movies.csv\", nrows=1000, usecols=['title','language','release_date','vote_average','genre'])\n",
    "\n",
    "movies.columns = ['Movie_name','Language','Release_Date','Ratings','Genre']"
   ]
  },
  {
   "cell_type": "code",
   "execution_count": 39,
   "id": "6b687cad",
   "metadata": {},
   "outputs": [
    {
     "data": {
      "text/html": [
       "<div>\n",
       "<style scoped>\n",
       "    .dataframe tbody tr th:only-of-type {\n",
       "        vertical-align: middle;\n",
       "    }\n",
       "\n",
       "    .dataframe tbody tr th {\n",
       "        vertical-align: top;\n",
       "    }\n",
       "\n",
       "    .dataframe thead th {\n",
       "        text-align: right;\n",
       "    }\n",
       "</style>\n",
       "<table border=\"1\" class=\"dataframe\">\n",
       "  <thead>\n",
       "    <tr style=\"text-align: right;\">\n",
       "      <th></th>\n",
       "      <th>Movie_name</th>\n",
       "      <th>Language</th>\n",
       "      <th>Release_Date</th>\n",
       "      <th>Ratings</th>\n",
       "      <th>Genre</th>\n",
       "    </tr>\n",
       "  </thead>\n",
       "  <tbody>\n",
       "    <tr>\n",
       "      <th>0</th>\n",
       "      <td>en</td>\n",
       "      <td>Venom: Let There Be Carnage</td>\n",
       "      <td>30-09-2021</td>\n",
       "      <td>6.8</td>\n",
       "      <td>['Science Fiction', 'Action', 'Adventure']</td>\n",
       "    </tr>\n",
       "    <tr>\n",
       "      <th>1</th>\n",
       "      <td>en</td>\n",
       "      <td>Eternals</td>\n",
       "      <td>03-11-2021</td>\n",
       "      <td>7.1</td>\n",
       "      <td>['Action', 'Adventure', 'Science Fiction', 'Fa...</td>\n",
       "    </tr>\n",
       "    <tr>\n",
       "      <th>2</th>\n",
       "      <td>en</td>\n",
       "      <td>Dune</td>\n",
       "      <td>15-09-2021</td>\n",
       "      <td>8.0</td>\n",
       "      <td>['Action', 'Adventure', 'Science Fiction']</td>\n",
       "    </tr>\n",
       "    <tr>\n",
       "      <th>3</th>\n",
       "      <td>en</td>\n",
       "      <td>Army of Thieves</td>\n",
       "      <td>27-10-2021</td>\n",
       "      <td>6.9</td>\n",
       "      <td>['Action', 'Crime', 'Thriller']</td>\n",
       "    </tr>\n",
       "    <tr>\n",
       "      <th>4</th>\n",
       "      <td>en</td>\n",
       "      <td>Free Guy</td>\n",
       "      <td>11-08-2021</td>\n",
       "      <td>7.8</td>\n",
       "      <td>['Comedy', 'Action', 'Adventure', 'Science Fic...</td>\n",
       "    </tr>\n",
       "  </tbody>\n",
       "</table>\n",
       "</div>"
      ],
      "text/plain": [
       "  Movie_name                     Language Release_Date  Ratings  \\\n",
       "0         en  Venom: Let There Be Carnage   30-09-2021      6.8   \n",
       "1         en                     Eternals   03-11-2021      7.1   \n",
       "2         en                         Dune   15-09-2021      8.0   \n",
       "3         en              Army of Thieves   27-10-2021      6.9   \n",
       "4         en                     Free Guy   11-08-2021      7.8   \n",
       "\n",
       "                                               Genre  \n",
       "0         ['Science Fiction', 'Action', 'Adventure']  \n",
       "1  ['Action', 'Adventure', 'Science Fiction', 'Fa...  \n",
       "2         ['Action', 'Adventure', 'Science Fiction']  \n",
       "3                    ['Action', 'Crime', 'Thriller']  \n",
       "4  ['Comedy', 'Action', 'Adventure', 'Science Fic...  "
      ]
     },
     "execution_count": 39,
     "metadata": {},
     "output_type": "execute_result"
    }
   ],
   "source": [
    "movies.head()"
   ]
  },
  {
   "cell_type": "code",
   "execution_count": 40,
   "id": "75a9ac5f",
   "metadata": {},
   "outputs": [
    {
     "data": {
      "text/plain": [
       "0      6.8\n",
       "1      7.1\n",
       "2      8.0\n",
       "3      6.9\n",
       "4      7.8\n",
       "      ... \n",
       "995    6.3\n",
       "996    6.8\n",
       "997    6.0\n",
       "998    6.8\n",
       "999    6.0\n",
       "Name: Ratings, Length: 1000, dtype: float64"
      ]
     },
     "execution_count": 40,
     "metadata": {},
     "output_type": "execute_result"
    }
   ],
   "source": [
    "movies['Ratings']       # Access columns"
   ]
  },
  {
   "cell_type": "code",
   "execution_count": 41,
   "id": "20cc2a5f",
   "metadata": {},
   "outputs": [
    {
     "data": {
      "text/plain": [
       "Movie_name                                              en\n",
       "Language                                              Dune\n",
       "Release_Date                                    15-09-2021\n",
       "Ratings                                                8.0\n",
       "Genre           ['Action', 'Adventure', 'Science Fiction']\n",
       "Name: 2, dtype: object"
      ]
     },
     "execution_count": 41,
     "metadata": {},
     "output_type": "execute_result"
    }
   ],
   "source": [
    "movies.iloc[2]     # Access Rows"
   ]
  },
  {
   "cell_type": "code",
   "execution_count": 42,
   "id": "4fdfc8f5",
   "metadata": {},
   "outputs": [],
   "source": [
    "n=0\n",
    "for i in movies['Genre']:\n",
    "    # print(i)\n",
    "    if \"Adventure\" not in i:\n",
    "        movies.drop(n,axis=0, inplace=True)\n",
    "    #     i=\"Adventure\"\n",
    "    #     print(\"Yes\")\n",
    "    # else:\n",
    "    #     print('No')\n",
    "    n=n+1"
   ]
  },
  {
   "cell_type": "code",
   "execution_count": 43,
   "id": "d571577c",
   "metadata": {},
   "outputs": [],
   "source": [
    "movies.reset_index(drop=True,inplace=True)"
   ]
  },
  {
   "cell_type": "code",
   "execution_count": 44,
   "id": "497a298a",
   "metadata": {},
   "outputs": [],
   "source": [
    "n=0\n",
    "for i in movies['Movie_name']:\n",
    "    if i != 'en':\n",
    "        movies.drop(n,axis=0, inplace=True)\n",
    "    #     i=\"Adventure\"\n",
    "    #     print(\"Yes\")\n",
    "    # else:\n",
    "    #     print('No')\n",
    "    n=n+1"
   ]
  },
  {
   "cell_type": "code",
   "execution_count": 1,
   "id": "2acb8fc0",
   "metadata": {},
   "outputs": [
    {
     "ename": "NameError",
     "evalue": "name 'movies' is not defined",
     "output_type": "error",
     "traceback": [
      "\u001b[1;31m---------------------------------------------------------------------------\u001b[0m",
      "\u001b[1;31mNameError\u001b[0m                                 Traceback (most recent call last)",
      "Cell \u001b[1;32mIn[1], line 1\u001b[0m\n\u001b[1;32m----> 1\u001b[0m movies\u001b[39m.\u001b[39mhead()\n",
      "\u001b[1;31mNameError\u001b[0m: name 'movies' is not defined"
     ]
    }
   ],
   "source": [
    "movies.head()"
   ]
  },
  {
   "cell_type": "code",
   "execution_count": 46,
   "id": "a2a5dfec",
   "metadata": {},
   "outputs": [
    {
     "data": {
      "text/plain": [
       "256"
      ]
     },
     "execution_count": 46,
     "metadata": {},
     "output_type": "execute_result"
    }
   ],
   "source": [
    "len(movies)        # no. of rows"
   ]
  },
  {
   "cell_type": "code",
   "execution_count": 47,
   "id": "679e12d5",
   "metadata": {},
   "outputs": [],
   "source": [
    "# movies.reset_index()       # create old index as a column\n",
    "\n",
    "movies.reset_index(drop=True,inplace=True)"
   ]
  },
  {
   "cell_type": "code",
   "execution_count": 48,
   "id": "6367490f",
   "metadata": {},
   "outputs": [
    {
     "data": {
      "text/html": [
       "<div>\n",
       "<style scoped>\n",
       "    .dataframe tbody tr th:only-of-type {\n",
       "        vertical-align: middle;\n",
       "    }\n",
       "\n",
       "    .dataframe tbody tr th {\n",
       "        vertical-align: top;\n",
       "    }\n",
       "\n",
       "    .dataframe thead th {\n",
       "        text-align: right;\n",
       "    }\n",
       "</style>\n",
       "<table border=\"1\" class=\"dataframe\">\n",
       "  <thead>\n",
       "    <tr style=\"text-align: right;\">\n",
       "      <th></th>\n",
       "      <th>Movie_name</th>\n",
       "      <th>Language</th>\n",
       "      <th>Release_Date</th>\n",
       "      <th>Ratings</th>\n",
       "      <th>Genre</th>\n",
       "    </tr>\n",
       "  </thead>\n",
       "  <tbody>\n",
       "    <tr>\n",
       "      <th>0</th>\n",
       "      <td>en</td>\n",
       "      <td>Venom: Let There Be Carnage</td>\n",
       "      <td>30-09-2021</td>\n",
       "      <td>6.8</td>\n",
       "      <td>['Science Fiction', 'Action', 'Adventure']</td>\n",
       "    </tr>\n",
       "    <tr>\n",
       "      <th>1</th>\n",
       "      <td>en</td>\n",
       "      <td>Eternals</td>\n",
       "      <td>03-11-2021</td>\n",
       "      <td>7.1</td>\n",
       "      <td>['Action', 'Adventure', 'Science Fiction', 'Fa...</td>\n",
       "    </tr>\n",
       "    <tr>\n",
       "      <th>2</th>\n",
       "      <td>en</td>\n",
       "      <td>Dune</td>\n",
       "      <td>15-09-2021</td>\n",
       "      <td>8.0</td>\n",
       "      <td>['Action', 'Adventure', 'Science Fiction']</td>\n",
       "    </tr>\n",
       "    <tr>\n",
       "      <th>3</th>\n",
       "      <td>en</td>\n",
       "      <td>Free Guy</td>\n",
       "      <td>11-08-2021</td>\n",
       "      <td>7.8</td>\n",
       "      <td>['Comedy', 'Action', 'Adventure', 'Science Fic...</td>\n",
       "    </tr>\n",
       "    <tr>\n",
       "      <th>4</th>\n",
       "      <td>en</td>\n",
       "      <td>Shang-Chi and the Legend of the Ten Rings</td>\n",
       "      <td>01-09-2021</td>\n",
       "      <td>7.7</td>\n",
       "      <td>['Action', 'Adventure', 'Fantasy']</td>\n",
       "    </tr>\n",
       "  </tbody>\n",
       "</table>\n",
       "</div>"
      ],
      "text/plain": [
       "  Movie_name                                   Language Release_Date  Ratings  \\\n",
       "0         en                Venom: Let There Be Carnage   30-09-2021      6.8   \n",
       "1         en                                   Eternals   03-11-2021      7.1   \n",
       "2         en                                       Dune   15-09-2021      8.0   \n",
       "3         en                                   Free Guy   11-08-2021      7.8   \n",
       "4         en  Shang-Chi and the Legend of the Ten Rings   01-09-2021      7.7   \n",
       "\n",
       "                                               Genre  \n",
       "0         ['Science Fiction', 'Action', 'Adventure']  \n",
       "1  ['Action', 'Adventure', 'Science Fiction', 'Fa...  \n",
       "2         ['Action', 'Adventure', 'Science Fiction']  \n",
       "3  ['Comedy', 'Action', 'Adventure', 'Science Fic...  \n",
       "4                 ['Action', 'Adventure', 'Fantasy']  "
      ]
     },
     "execution_count": 48,
     "metadata": {},
     "output_type": "execute_result"
    }
   ],
   "source": [
    "movies.head()"
   ]
  },
  {
   "cell_type": "code",
   "execution_count": 49,
   "id": "4460477f",
   "metadata": {},
   "outputs": [
    {
     "data": {
      "text/html": [
       "<div>\n",
       "<style scoped>\n",
       "    .dataframe tbody tr th:only-of-type {\n",
       "        vertical-align: middle;\n",
       "    }\n",
       "\n",
       "    .dataframe tbody tr th {\n",
       "        vertical-align: top;\n",
       "    }\n",
       "\n",
       "    .dataframe thead th {\n",
       "        text-align: right;\n",
       "    }\n",
       "</style>\n",
       "<table border=\"1\" class=\"dataframe\">\n",
       "  <thead>\n",
       "    <tr style=\"text-align: right;\">\n",
       "      <th></th>\n",
       "      <th>Movie_name</th>\n",
       "      <th>Language</th>\n",
       "      <th>Release_Date</th>\n",
       "      <th>Ratings</th>\n",
       "      <th>Genre</th>\n",
       "    </tr>\n",
       "  </thead>\n",
       "  <tbody>\n",
       "    <tr>\n",
       "      <th>251</th>\n",
       "      <td>en</td>\n",
       "      <td>Fantastic Four</td>\n",
       "      <td>05-08-2015</td>\n",
       "      <td>4.4</td>\n",
       "      <td>['Action', 'Adventure', 'Science Fiction']</td>\n",
       "    </tr>\n",
       "    <tr>\n",
       "      <th>252</th>\n",
       "      <td>en</td>\n",
       "      <td>Allegiant</td>\n",
       "      <td>09-03-2016</td>\n",
       "      <td>6.1</td>\n",
       "      <td>['Adventure', 'Science Fiction', 'Action', 'My...</td>\n",
       "    </tr>\n",
       "    <tr>\n",
       "      <th>253</th>\n",
       "      <td>en</td>\n",
       "      <td>Despicable Me 3</td>\n",
       "      <td>15-06-2017</td>\n",
       "      <td>6.4</td>\n",
       "      <td>['Action', 'Animation', 'Comedy', 'Family', 'A...</td>\n",
       "    </tr>\n",
       "    <tr>\n",
       "      <th>254</th>\n",
       "      <td>en</td>\n",
       "      <td>Captain America: The Winter Soldier</td>\n",
       "      <td>20-03-2014</td>\n",
       "      <td>7.7</td>\n",
       "      <td>['Action', 'Adventure', 'Science Fiction']</td>\n",
       "    </tr>\n",
       "    <tr>\n",
       "      <th>255</th>\n",
       "      <td>en</td>\n",
       "      <td>Dark Phoenix</td>\n",
       "      <td>05-06-2019</td>\n",
       "      <td>6.0</td>\n",
       "      <td>['Science Fiction', 'Action', 'Adventure']</td>\n",
       "    </tr>\n",
       "  </tbody>\n",
       "</table>\n",
       "</div>"
      ],
      "text/plain": [
       "    Movie_name                             Language Release_Date  Ratings  \\\n",
       "251         en                       Fantastic Four   05-08-2015      4.4   \n",
       "252         en                            Allegiant   09-03-2016      6.1   \n",
       "253         en                      Despicable Me 3   15-06-2017      6.4   \n",
       "254         en  Captain America: The Winter Soldier   20-03-2014      7.7   \n",
       "255         en                         Dark Phoenix   05-06-2019      6.0   \n",
       "\n",
       "                                                 Genre  \n",
       "251         ['Action', 'Adventure', 'Science Fiction']  \n",
       "252  ['Adventure', 'Science Fiction', 'Action', 'My...  \n",
       "253  ['Action', 'Animation', 'Comedy', 'Family', 'A...  \n",
       "254         ['Action', 'Adventure', 'Science Fiction']  \n",
       "255         ['Science Fiction', 'Action', 'Adventure']  "
      ]
     },
     "execution_count": 49,
     "metadata": {},
     "output_type": "execute_result"
    }
   ],
   "source": [
    "movies.tail()"
   ]
  },
  {
   "cell_type": "code",
   "execution_count": 50,
   "id": "0545b52c",
   "metadata": {},
   "outputs": [],
   "source": [
    "Adv = movies[0:120]"
   ]
  },
  {
   "cell_type": "code",
   "execution_count": 51,
   "id": "2254e3e3",
   "metadata": {},
   "outputs": [
    {
     "data": {
      "text/html": [
       "<div>\n",
       "<style scoped>\n",
       "    .dataframe tbody tr th:only-of-type {\n",
       "        vertical-align: middle;\n",
       "    }\n",
       "\n",
       "    .dataframe tbody tr th {\n",
       "        vertical-align: top;\n",
       "    }\n",
       "\n",
       "    .dataframe thead th {\n",
       "        text-align: right;\n",
       "    }\n",
       "</style>\n",
       "<table border=\"1\" class=\"dataframe\">\n",
       "  <thead>\n",
       "    <tr style=\"text-align: right;\">\n",
       "      <th></th>\n",
       "      <th>Movie_name</th>\n",
       "      <th>Language</th>\n",
       "      <th>Release_Date</th>\n",
       "      <th>Ratings</th>\n",
       "      <th>Genre</th>\n",
       "    </tr>\n",
       "  </thead>\n",
       "  <tbody>\n",
       "    <tr>\n",
       "      <th>115</th>\n",
       "      <td>en</td>\n",
       "      <td>Green Lantern</td>\n",
       "      <td>16-06-2011</td>\n",
       "      <td>5.2</td>\n",
       "      <td>['Adventure', 'Action', 'Thriller', 'Science F...</td>\n",
       "    </tr>\n",
       "    <tr>\n",
       "      <th>116</th>\n",
       "      <td>en</td>\n",
       "      <td>Pirates of the Caribbean: The Curse of the Bla...</td>\n",
       "      <td>09-07-2003</td>\n",
       "      <td>7.8</td>\n",
       "      <td>['Adventure', 'Fantasy', 'Action']</td>\n",
       "    </tr>\n",
       "    <tr>\n",
       "      <th>117</th>\n",
       "      <td>en</td>\n",
       "      <td>The Twilight Saga: Breaking Dawn - Part 2</td>\n",
       "      <td>13-11-2012</td>\n",
       "      <td>6.5</td>\n",
       "      <td>['Adventure', 'Fantasy', 'Drama', 'Romance']</td>\n",
       "    </tr>\n",
       "    <tr>\n",
       "      <th>118</th>\n",
       "      <td>en</td>\n",
       "      <td>Thor: The Dark World</td>\n",
       "      <td>30-10-2013</td>\n",
       "      <td>6.6</td>\n",
       "      <td>['Action', 'Adventure', 'Fantasy']</td>\n",
       "    </tr>\n",
       "    <tr>\n",
       "      <th>119</th>\n",
       "      <td>en</td>\n",
       "      <td>The Grey</td>\n",
       "      <td>14-09-2011</td>\n",
       "      <td>6.6</td>\n",
       "      <td>['Drama', 'Thriller', 'Action', 'Adventure']</td>\n",
       "    </tr>\n",
       "  </tbody>\n",
       "</table>\n",
       "</div>"
      ],
      "text/plain": [
       "    Movie_name                                           Language  \\\n",
       "115         en                                      Green Lantern   \n",
       "116         en  Pirates of the Caribbean: The Curse of the Bla...   \n",
       "117         en          The Twilight Saga: Breaking Dawn - Part 2   \n",
       "118         en                               Thor: The Dark World   \n",
       "119         en                                           The Grey   \n",
       "\n",
       "    Release_Date  Ratings                                              Genre  \n",
       "115   16-06-2011      5.2  ['Adventure', 'Action', 'Thriller', 'Science F...  \n",
       "116   09-07-2003      7.8                 ['Adventure', 'Fantasy', 'Action']  \n",
       "117   13-11-2012      6.5       ['Adventure', 'Fantasy', 'Drama', 'Romance']  \n",
       "118   30-10-2013      6.6                 ['Action', 'Adventure', 'Fantasy']  \n",
       "119   14-09-2011      6.6       ['Drama', 'Thriller', 'Action', 'Adventure']  "
      ]
     },
     "execution_count": 51,
     "metadata": {},
     "output_type": "execute_result"
    }
   ],
   "source": [
    "Adv.tail()"
   ]
  },
  {
   "cell_type": "code",
   "execution_count": 52,
   "id": "faa5234f",
   "metadata": {},
   "outputs": [],
   "source": [
    "Adv.to_csv(\"Files/100_Adventure_movies.csv\")"
   ]
  }
 ],
 "metadata": {
  "kernelspec": {
   "display_name": "Python 3 (ipykernel)",
   "language": "python",
   "name": "python3"
  },
  "language_info": {
   "codemirror_mode": {
    "name": "ipython",
    "version": 3
   },
   "file_extension": ".py",
   "mimetype": "text/x-python",
   "name": "python",
   "nbconvert_exporter": "python",
   "pygments_lexer": "ipython3",
   "version": "3.11.3"
  },
  "vscode": {
   "interpreter": {
    "hash": "b384a02486a37d6ae96b83b611f6f0dfe292ebd979584d0d032d5f2b6a9bb680"
   }
  }
 },
 "nbformat": 4,
 "nbformat_minor": 5
}
